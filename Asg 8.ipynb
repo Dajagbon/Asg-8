{
 "cells": [
  {
   "cell_type": "code",
   "execution_count": 6,
   "id": "7f4955d5-f5cd-469a-9ffc-c3edc8ba5879",
   "metadata": {},
   "outputs": [
    {
     "name": "stdin",
     "output_type": "stream",
     "text": [
      "Enter your string:  K}s?3UdG_t:m=+Wz\n"
     ]
    },
    {
     "name": "stdout",
     "output_type": "stream",
     "text": [
      "Number of numeric characters: 1\n",
      "Number of lowercase characters: 5\n",
      "Number of uppercase characters: 4\n",
      "Number of symbols: 6\n"
     ]
    }
   ],
   "source": [
    "num_numeric = 0\n",
    "num_lower = 0\n",
    "num_upper = 0\n",
    "num_symbols = 0\n",
    "\n",
    "character_frequency= input(\"Enter your string: \")\n",
    "\n",
    "for frequency in character_frequency:\n",
    "        if frequency.isdigit():\n",
    "            num_numeric += 1\n",
    "        elif frequency.islower():\n",
    "            num_lower += 1\n",
    "        elif frequency.isupper():\n",
    "            num_upper += 1\n",
    "        else:\n",
    "            num_symbols += 1\n",
    "\n",
    "print(\"Number of numeric characters:\", num_numeric)\n",
    "print(\"Number of lowercase characters:\", num_lower)\n",
    "print(\"Number of uppercase characters:\", num_upper)\n",
    "print(\"Number of symbols:\", num_symbols)\n"
   ]
  },
  {
   "cell_type": "code",
   "execution_count": 36,
   "id": "c6c77fa8-a307-42f2-b6c6-d825335cfe3f",
   "metadata": {},
   "outputs": [
    {
     "name": "stdin",
     "output_type": "stream",
     "text": [
      "Enter your poem:  SATOR\\n AREPO\\n TENET\\n OPERA\\n ROTAS\\n\n"
     ]
    },
    {
     "name": "stdout",
     "output_type": "stream",
     "text": [
      "Secret message extracted from the acrostic: S\n"
     ]
    }
   ],
   "source": [
    "poem = input(\"Enter your poem: \")\n",
    "\n",
    "def secret_message(poem):\n",
    "    lines = poem.split('\\n') \n",
    "    extracted_secret_message = \"\" \n",
    "\n",
    "    for line in lines:\n",
    "        if line:  \n",
    "            first_letter = line.strip()[0] \n",
    "            extracted_secret_message += first_letter \n",
    "            \n",
    "    return extracted_secret_message \n",
    "    \n",
    "print(\"Secret message extracted from the acrostic:\", secret_message(poem)) "
   ]
  },
  {
   "cell_type": "code",
   "execution_count": null,
   "id": "ac3c0145-dcba-4f03-843e-90889b9595fa",
   "metadata": {},
   "outputs": [],
   "source": []
  }
 ],
 "metadata": {
  "kernelspec": {
   "display_name": "Python 3 (ipykernel)",
   "language": "python",
   "name": "python3"
  },
  "language_info": {
   "codemirror_mode": {
    "name": "ipython",
    "version": 3
   },
   "file_extension": ".py",
   "mimetype": "text/x-python",
   "name": "python",
   "nbconvert_exporter": "python",
   "pygments_lexer": "ipython3",
   "version": "3.11.5"
  }
 },
 "nbformat": 4,
 "nbformat_minor": 5
}
