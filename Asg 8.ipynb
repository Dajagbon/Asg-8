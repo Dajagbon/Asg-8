{
 "cells": [
  {
   "cell_type": "code",
   "execution_count": 6,
   "id": "7f4955d5-f5cd-469a-9ffc-c3edc8ba5879",
   "metadata": {},
   "outputs": [
    {
     "name": "stdin",
     "output_type": "stream",
     "text": [
      "Enter your string:  K}s?3UdG_t:m=+Wz\n"
     ]
    },
    {
     "name": "stdout",
     "output_type": "stream",
     "text": [
      "Number of numeric characters: 1\n",
      "Number of lowercase characters: 5\n",
      "Number of uppercase characters: 4\n",
      "Number of symbols: 6\n"
     ]
    }
   ],
   "source": [
    "num_numeric = 0\n",
    "num_lower = 0\n",
    "num_upper = 0\n",
    "num_symbols = 0\n",
    "\n",
    "character_frequency= input(\"Enter your string: \")\n",
    "\n",
    "for frequency in character_frequency:\n",
    "        if frequency.isdigit():\n",
    "            num_numeric += 1\n",
    "        elif frequency.islower():\n",
    "            num_lower += 1\n",
    "        elif frequency.isupper():\n",
    "            num_upper += 1\n",
    "        else:\n",
    "            num_symbols += 1\n",
    "\n",
    "print(\"Number of numeric characters:\", num_numeric)\n",
    "print(\"Number of lowercase characters:\", num_lower)\n",
    "print(\"Number of uppercase characters:\", num_upper)\n",
    "print(\"Number of symbols:\", num_symbols)\n"
   ]
  },
  {
   "cell_type": "code",
   "execution_count": 52,
   "id": "c6c77fa8-a307-42f2-b6c6-d825335cfe3f",
   "metadata": {},
   "outputs": [
    {
     "name": "stdout",
     "output_type": "stream",
     "text": [
      "Secret message extracted from the acrostic: SATOR\n"
     ]
    }
   ],
   "source": [
    "def secret_message(poem):\n",
    "    poem = \"\"\"SATOR\\n\n",
    "AREPO\\n\n",
    "TENET\\n\n",
    "OPERA\\n\n",
    "ROTAS\\n\"\"\"\n",
    "    lines = poem.split('\\n') \n",
    "    extracted_secret_message = \"\" \n",
    "\n",
    "    for line in lines:\n",
    "        if line:  \n",
    "            first_letter = line.strip()[0] \n",
    "            extracted_secret_message += first_letter \n",
    "            \n",
    "    return extracted_secret_message \n",
    "\n",
    "print(\"Secret message extracted from the acrostic:\", secret_message(poem)) "
   ]
  },
  {
   "cell_type": "code",
   "execution_count": 55,
   "id": "c0731c84-e84e-4d44-b00d-bbd5a525b07f",
   "metadata": {},
   "outputs": [
    {
     "name": "stdout",
     "output_type": "stream",
     "text": [
      "Secret message extracted from the acrostic: E“IZABETH“\n"
     ]
    }
   ],
   "source": [
    "def secret_message(poem):\n",
    "    poem = \"\"\"Elizabeth it is in vain you say\\t\n",
    "“Love not” – thou sayest it in so sweet a way:\\t\n",
    "In vain those words from thee or L.E.L.\\t\n",
    "Zantippe’s talents had enforced so well:\n",
    "Ah! If that language from thy heart arise,\\t\n",
    "\n",
    "Breath it less gently forth — and veil thine eyes.\\t\n",
    "Endymion, recollect, when Luna tried\\t\n",
    "To cure his love – was cured of all beside\\t\n",
    "His folly – pride – and passion – for he died.\n",
    "\n",
    "“An Acrostic” by Edgar Allen Poe\"\"\"\n",
    "    lines = poem.split('\\n') \n",
    "    extracted_secret_message = \"\" \n",
    "\n",
    "    for line in lines:\n",
    "        if line:  \n",
    "            first_letter = line.strip()[0] \n",
    "            extracted_secret_message += first_letter \n",
    "            \n",
    "    return extracted_secret_message \n",
    "\n",
    "print(\"Secret message extracted from the acrostic:\", secret_message(poem))"
   ]
  },
  {
   "cell_type": "code",
   "execution_count": null,
   "id": "daef93d0-4fd6-41bf-98b8-3aa431e3f72a",
   "metadata": {},
   "outputs": [],
   "source": []
  }
 ],
 "metadata": {
  "kernelspec": {
   "display_name": "Python 3 (ipykernel)",
   "language": "python",
   "name": "python3"
  },
  "language_info": {
   "codemirror_mode": {
    "name": "ipython",
    "version": 3
   },
   "file_extension": ".py",
   "mimetype": "text/x-python",
   "name": "python",
   "nbconvert_exporter": "python",
   "pygments_lexer": "ipython3",
   "version": "3.11.5"
  }
 },
 "nbformat": 4,
 "nbformat_minor": 5
}
